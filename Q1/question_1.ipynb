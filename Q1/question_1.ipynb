{
 "cells": [
  {
   "cell_type": "markdown",
   "metadata": {
    "id": "ribStzGpnBAP"
   },
   "source": [
    "move(m, n, sum): return the path needed to get the desired sum\n",
    "\n",
    "Input:\n",
    "\n",
    "* m: number of rows (integer)\n",
    "* n: number of columns (integer)\n",
    "* sum: the desired sum (integer)\n",
    " \n",
    "Results:\n",
    "\n",
    "* path: list of number that the path will traverse (list of number)"
   ]
  },
  {
   "cell_type": "code",
   "execution_count": 1,
   "metadata": {
    "id": "b4K2NAsTO7-G"
   },
   "outputs": [],
   "source": [
    "def move(m, n, sum):\n",
    "  count = m + n - 1\n",
    "  max_val = m\n",
    "  s = sum\n",
    "  path = []\n",
    "  while max_val > 0:\n",
    "    # check if path reaches top left yet\n",
    "    if count <= 0:\n",
    "      break\n",
    "    # go up\n",
    "    least = max_val * ((max_val - 1) / 2)\n",
    "    path.append(max_val)\n",
    "    s -= max_val\n",
    "    count -= 1\n",
    "    if s < least:\n",
    "      break\n",
    "    # check if path needes to go left\n",
    "    while ((count > 0) and (s > least + (count - (max_val - 1)) * (max_val - 1))):\n",
    "      path.append(max_val)\n",
    "      s -= max_val\n",
    "      count -= 1\n",
    "    max_val -= 1\n",
    "  return path\n",
    "  "
   ]
  },
  {
   "cell_type": "markdown",
   "metadata": {
    "id": "rbxQiei6n52Z"
   },
   "source": [
    "combine(m, n, sum): return the path with operations needed to get the desired sum\n",
    "\n",
    "Input:\n",
    "\n",
    "* m: number of rows (integer)\n",
    "* n: number of columns (integer)\n",
    "* sum: the desired sum (integer)\n",
    " \n",
    "Results:\n",
    "\n",
    "* path: list of strings that represents the operations the path will perform (list of strings)"
   ]
  },
  {
   "cell_type": "code",
   "execution_count": 2,
   "metadata": {
    "id": "8wGg626Pm2qP"
   },
   "outputs": [],
   "source": [
    "def combine(m, n, sum):\n",
    "  path = move(m, n, sum)\n",
    "  path.reverse()\n",
    "  res = []\n",
    "  for i in range(1, len(path)):\n",
    "    # check if go right\n",
    "    if path[i] == path[i - 1]:\n",
    "      res.append(\"R\")\n",
    "    # check if go down\n",
    "    else:\n",
    "      res.append(\"D\")\n",
    "  return res\n",
    "  "
   ]
  },
  {
   "cell_type": "code",
   "execution_count": 3,
   "metadata": {
    "id": "d4Tucctk-JD_"
   },
   "outputs": [],
   "source": [
    "questions = {65:[9, 9], 72:[9, 9], 90:[9, 9], 110:[9, 9], 87127231192:[90000, 100000], 5994891682:[90000, 100000]}\n",
    "\n",
    "f = open(\"output_data/output_question_1\", \"w\")\n",
    "for key in questions:\n",
    "  res = combine(questions[key][0], questions[key][1], key)\n",
    "  f.write(str(key) + \" \" + ''.join(res) + \"\\n\")\n",
    "  if key == 110:\n",
    "    f.write(\"\\n\")\n",
    "f.close()\n"
   ]
  }
 ],
 "metadata": {
  "colab": {
   "name": "question_1.ipynb",
   "provenance": []
  },
  "kernelspec": {
   "display_name": "Python 3",
   "language": "python",
   "name": "python3"
  },
  "language_info": {
   "codemirror_mode": {
    "name": "ipython",
    "version": 3
   },
   "file_extension": ".py",
   "mimetype": "text/x-python",
   "name": "python",
   "nbconvert_exporter": "python",
   "pygments_lexer": "ipython3",
   "version": "3.8.3"
  }
 },
 "nbformat": 4,
 "nbformat_minor": 1
}
